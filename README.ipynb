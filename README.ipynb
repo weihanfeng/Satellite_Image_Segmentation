{
 "cells": [
  {
   "cell_type": "markdown",
   "id": "6c30408f",
   "metadata": {},
   "source": [
    "# End-to End Satellite Image Segmention Pipeline"
   ]
  },
  {
   "cell_type": "markdown",
   "id": "60ac2b40",
   "metadata": {},
   "source": [
    "<p align = \"center\">\n",
    "<img src = \"assets/prediction_result.png\">\n",
    "</p>\n",
    "<p align = \"center\">\n",
    "</p>"
   ]
  },
  {
   "cell_type": "markdown",
   "id": "800d37fe",
   "metadata": {},
   "source": [
    "The end-to-end pipeline for satellite image segmentation is composed of the following steps:\n",
    "\n",
    "1. Data Ingestion\n",
    "2. Data Preprocessing\n",
    "3. Model Training\n",
    "4. Model Evaluation\n",
    "5. API Inference"
   ]
  },
  {
   "cell_type": "markdown",
   "id": "e104bac2",
   "metadata": {},
   "source": [
    "## End to End Workflow"
   ]
  },
  {
   "cell_type": "markdown",
   "id": "3652a483",
   "metadata": {},
   "source": [
    "The end to end CICD workflow can be summarized below."
   ]
  },
  {
   "cell_type": "markdown",
   "id": "94b5176f",
   "metadata": {},
   "source": [
    "<p align = \"center\">\n",
    "<img src = \"assets/workflow.png\">\n",
    "</p>\n",
    "<p align = \"center\">\n",
    "</p>"
   ]
  },
  {
   "cell_type": "markdown",
   "id": "6937786f",
   "metadata": {},
   "source": [
    "In the development environment, model and hyperparameter tuning experiments are facilitated by the MLFlow tracking server. Once the best model is determined, it is then store in Google Drive. The production ready repo is push to the master branch, which then triggers the Github actions to test, build and push the image to Docker Hub. The Github action then triggers the EC2 instance to pull the latest image from Docker Hub and run the API server. The Flask API server then pulls the best model from Google Drive to perform inferencing."
   ]
  },
  {
   "cell_type": "markdown",
   "id": "c42e1ae7",
   "metadata": {},
   "source": [
    "## Usage"
   ]
  },
  {
   "cell_type": "markdown",
   "id": "bd0c8370",
   "metadata": {},
   "source": [
    "### Model training "
   ]
  },
  {
   "cell_type": "markdown",
   "id": "43ecec5f",
   "metadata": {},
   "source": [
    "To Train the model locally, run:\n",
    "\n",
    "```bash\n",
    "python src/get_and_process_data.py\n",
    "```\n",
    "followed by:\n",
    "\n",
    "```bash\n",
    "python src/train_model.py\n",
    "```"
   ]
  },
  {
   "cell_type": "markdown",
   "id": "785030bf",
   "metadata": {},
   "source": [
    "Additionally, if you do not have a GPU, a colab notebook is available at `notebooks/train_model.ipynb`. The notebook pulls the repo from Github, runs the ingestion and training pipeline, then saves the model periodically to Google Drive. "
   ]
  },
  {
   "cell_type": "markdown",
   "id": "775e2445",
   "metadata": {},
   "source": [
    "### Model deployment via API"
   ]
  },
  {
   "cell_type": "markdown",
   "id": "b290eb7a",
   "metadata": {},
   "source": [
    "A simple UI can be deployed either locally or on AWS EC2. The UI allows one to upload an image of a satellite and obtain a segmentation mask. "
   ]
  },
  {
   "cell_type": "markdown",
   "id": "207554c1",
   "metadata": {},
   "source": [
    "<p align = \"center\">\n",
    "<img src = \"assets/landing_page.png\">\n",
    "</p>\n",
    "<p align = \"center\">\n",
    "Upload page\n",
    "</p>"
   ]
  },
  {
   "cell_type": "markdown",
   "id": "8c0e979c",
   "metadata": {},
   "source": [
    "<p align = \"center\">\n",
    "<img src = \"assets/prediction_result.png\">\n",
    "</p>\n",
    "<p align = \"center\">\n",
    "Result Page\n",
    "</p>"
   ]
  },
  {
   "cell_type": "markdown",
   "id": "0441b112",
   "metadata": {},
   "source": [
    "#### Local development environment "
   ]
  },
  {
   "cell_type": "markdown",
   "id": "ede939a4",
   "metadata": {},
   "source": [
    "1. Ensure that the `model_path` parameter in `conf/config.yaml` points to the right model path, and model source is set to `local`:\n",
    "\n",
    "\n",
    "    ```yaml\n",
    "    api:\n",
    "      MODEL_PATH: # model path to use for inference\n",
    "      MODEL_SOURCE: local\n",
    "    ```\n",
    "\n",
    "2. Ensure docker is installed on your local machine and service started\n",
    "\n",
    "3. Build the docker image\n",
    "\n",
    "    ```bash\n",
    "    docker build -t sat_img_seg -f .\\docker\\flask_app.dockerfile .\n",
    "    ```\n",
    "\n",
    "4. Run the docker image\n",
    "\n",
    "    ```bash\n",
    "    docker run -p 5000:5000 sat_img_seg\n",
    "    ```\n",
    "\n",
    "5. The API is now running on `http://localhost:5000/`\n",
    "\n",
    "\n"
   ]
  },
  {
   "cell_type": "markdown",
   "id": "7240cb04",
   "metadata": {},
   "source": [
    "#### Model deployment to AWS\n",
    "\n",
    "A github actions workflow is set up to automatically deploy the API to AWS EC2, whenever the `main` branch is updated.\n",
    "\n",
    "1. Upload trained model artifact to google drive, and obtain the file id, the file id can be obtained from the shareable link : https://drive.google.com/file/<file_id>/view?usp=drive_link\n",
    "\n",
    "2. Spin up a EC2 instance on AWS, ensure that docker is installed and service started.\n",
    "\n",
    "3. Make sure that you have a docker account on docker hub\n",
    "\n",
    "4. On the Github repo, ensure that the following secrets are set:\n",
    "    - DOCKER_USERNAME \n",
    "    - DOCKER_PASSWORD\n",
    "    - AWS_HOST (Public IP address of the EC2 instance)\n",
    "    - AWS_USERNAME (Username of the EC2 instance)\n",
    "    - AWS_PRIVATE_KEY (Private key of the EC2 instance, you should download a .pem file when you create the EC2 instance, copy and paste the content of the .pem file into the secret)\n",
    "\n",
    "5. Once a change has been made to the master branch, or manually triggered, the github actions workflow will be triggered, and the API will be deployed to the EC2 instance\n",
    "\n",
    "5. The API is now running on `http://<AWS_HOST>:5000/`"
   ]
  },
  {
   "cell_type": "markdown",
   "id": "d56e9c4f",
   "metadata": {},
   "source": [
    "## Dataset"
   ]
  },
  {
   "cell_type": "markdown",
   "id": "70d52292",
   "metadata": {},
   "source": [
    "The dataset consists of 1366 rural and 1156 urban satellite images (1024x1024) and correpsonding masks consisting of remote sensing images from Nanjing, Changzhou, and Wuhan. They are part of the [LoveDA](https://github.com/Junjue-Wang/LoveDA) dataset. \n",
    "\n",
    "The original masks contains 8 classes:\n",
    "\n",
    "    0: unlabelled\n",
    "    1: background\n",
    "    2: building\n",
    "    3: road\n",
    "    4: water\n",
    "    5: barren\n",
    "    6: forest\n",
    "    7: agriculture\n",
    "\n",
    "During preprocessing, the unlablled class is removed, which leaves 7 labels.\n"
   ]
  },
  {
   "cell_type": "markdown",
   "id": "089099ae",
   "metadata": {},
   "source": [
    "## Models"
   ]
  },
  {
   "cell_type": "markdown",
   "id": "381ca95c",
   "metadata": {},
   "source": [
    "Two main model architectures were explored: The original U-Net architecture, and a modified U-Net architecture with a ResNet50 backbone. Blocks in the backbone were selectively unfrozen during training. "
   ]
  }
 ],
 "metadata": {
  "kernelspec": {
   "display_name": "Python 3 (ipykernel)",
   "language": "python",
   "name": "python3"
  },
  "language_info": {
   "codemirror_mode": {
    "name": "ipython",
    "version": 3
   },
   "file_extension": ".py",
   "mimetype": "text/x-python",
   "name": "python",
   "nbconvert_exporter": "python",
   "pygments_lexer": "ipython3",
   "version": "3.9.16"
  },
  "toc": {
   "base_numbering": 1,
   "nav_menu": {},
   "number_sections": true,
   "sideBar": true,
   "skip_h1_title": false,
   "title_cell": "Table of Contents",
   "title_sidebar": "Contents",
   "toc_cell": false,
   "toc_position": {},
   "toc_section_display": true,
   "toc_window_display": false
  }
 },
 "nbformat": 4,
 "nbformat_minor": 5
}
