{
 "cells": [
  {
   "cell_type": "markdown",
   "id": "6c30408f",
   "metadata": {},
   "source": [
    "# Satellite Image Segmention"
   ]
  },
  {
   "cell_type": "markdown",
   "id": "800d37fe",
   "metadata": {},
   "source": [
    "This project is my exploration of semantic segmentation on satellite imagery."
   ]
  },
  {
   "cell_type": "markdown",
   "id": "4a909776",
   "metadata": {},
   "source": [
    "## Problem Statement"
   ]
  },
  {
   "attachments": {},
   "cell_type": "markdown",
   "id": "b6e32e82",
   "metadata": {},
   "source": [
    "The goal of the project is to segment satellite imagery into different classes of objects, i.e. woodlands, buildings, roads, etc. \n",
    "\n",
    "Potential applications include: \n",
    "- Monitor and quantify the changing state of our planet\n",
    "- Reduce manual work of tracing over satellite imagery in map production"
   ]
  },
  {
   "cell_type": "markdown",
   "id": "d56e9c4f",
   "metadata": {},
   "source": [
    "## Dataset"
   ]
  },
  {
   "attachments": {},
   "cell_type": "markdown",
   "id": "70d52292",
   "metadata": {},
   "source": [
    "The dataset consists of 41 images and their corresponding masks obtained from: https://landcover.ai.linuxpolska.com/. The landcover consists of rasters three-channel GeoTiffs with EPSG:2180 spatial reference system while masks are single-channel. \n",
    "\n",
    "The masks contains 5 labels: unlablled (0), building (1), woodland (2), water(3), road(4). Unlablled class consists of all landcover types other than the types specified in labels 1-4. Overall, More than half of all mask pixels are unlablled, more than 1/3 are woodlands, and only a minority are buildings, water and road.\n",
    "\n",
    "The images and masks were split into 256x256 smaller images. Image augmentation where additional datasets were created by randomly varying the brightness and constrast of source images."
   ]
  },
  {
   "cell_type": "markdown",
   "id": "089099ae",
   "metadata": {},
   "source": [
    "## Modelling"
   ]
  },
  {
   "cell_type": "markdown",
   "id": "381ca95c",
   "metadata": {},
   "source": [
    "2 segmentation architectures were used. A basic encoder-decorder network and Unet (https://arxiv.org/pdf/1505.04597.pdf). The basic network achieved 0.72 of IOU (Intersection over Union) and the Unet achieved 0.74 after about 30-40 epoches trained on the Google Colab platform. "
   ]
  },
  {
   "cell_type": "markdown",
   "id": "876795e2",
   "metadata": {},
   "source": [
    "## Limitations and Future Exploration"
   ]
  },
  {
   "cell_type": "markdown",
   "id": "d5fe0eda",
   "metadata": {},
   "source": [
    "### Limitations"
   ]
  },
  {
   "attachments": {},
   "cell_type": "markdown",
   "id": "36647af5",
   "metadata": {},
   "source": [
    "- Does not handle overlapped objects well, i.e. tree over road\n",
    "- Does not pick up areas where separation between objects are not as apparent\n",
    "- Unlabelled class consists of grassland, concrete paving, shadow, etc.\n",
    "- Some ground truth labelling are inaccurate\n",
    "- Dataset only consists of some areas in Poland, mostly forested and rural areas"
   ]
  },
  {
   "cell_type": "markdown",
   "id": "b34f4105",
   "metadata": {},
   "source": [
    "### Future explorations"
   ]
  },
  {
   "cell_type": "markdown",
   "id": "3aaef38d",
   "metadata": {},
   "source": [
    "- Explore other architectures and pretrained models\n",
    "- Increase variety of datasets to include a fair representation of urban, rural, and different types of natural landcovers \n",
    "- Better labelled training sets\n"
   ]
  },
  {
   "cell_type": "markdown",
   "id": "af835199",
   "metadata": {},
   "source": [
    "## Acknowledgement"
   ]
  },
  {
   "cell_type": "markdown",
   "id": "f83a8d38",
   "metadata": {},
   "source": [
    "The Unet architecture was based on the paper by Olaf Ronneberger, Philipp Fischer, and Thomas Brox: https://arxiv.org/pdf/1505.04597.pdf. \n",
    "\n",
    "In addition, the project takes reference from videos by DigitalSreeni: https://www.youtube.com/c/DigitalSreeni."
   ]
  },
  {
   "cell_type": "code",
   "execution_count": null,
   "id": "aacf9c95",
   "metadata": {},
   "outputs": [],
   "source": []
  }
 ],
 "metadata": {
  "kernelspec": {
   "display_name": "Python 3 (ipykernel)",
   "language": "python",
   "name": "python3"
  },
  "language_info": {
   "codemirror_mode": {
    "name": "ipython",
    "version": 3
   },
   "file_extension": ".py",
   "mimetype": "text/x-python",
   "name": "python",
   "nbconvert_exporter": "python",
   "pygments_lexer": "ipython3",
   "version": "3.8.5"
  },
  "toc": {
   "base_numbering": 1,
   "nav_menu": {},
   "number_sections": true,
   "sideBar": true,
   "skip_h1_title": false,
   "title_cell": "Table of Contents",
   "title_sidebar": "Contents",
   "toc_cell": false,
   "toc_position": {},
   "toc_section_display": true,
   "toc_window_display": false
  }
 },
 "nbformat": 4,
 "nbformat_minor": 5
}
