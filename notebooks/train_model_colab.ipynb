{
  "cells": [
    {
      "cell_type": "code",
      "execution_count": null,
      "metadata": {
        "colab": {
          "base_uri": "https://localhost:8080/"
        },
        "id": "lXfgJab-7AvO",
        "outputId": "a119f3dd-3b9a-4fc6-b38e-7a229995eedb"
      },
      "outputs": [],
      "source": [
        "from google.colab import drive\n",
        "drive.mount('/content/drive')"
      ]
    },
    {
      "cell_type": "code",
      "execution_count": null,
      "metadata": {
        "colab": {
          "base_uri": "https://localhost:8080/",
          "height": 35
        },
        "id": "--9nUEGP7B00",
        "outputId": "8cbf09d7-e85a-48ed-a6bd-abd3b79a1f31"
      },
      "outputs": [],
      "source": [
        "import os\n",
        "os.getcwd()"
      ]
    },
    {
      "cell_type": "code",
      "execution_count": null,
      "metadata": {
        "colab": {
          "base_uri": "https://localhost:8080/"
        },
        "id": "t03RWgBf1wt3",
        "outputId": "b6975d4f-6c55-4bde-fc85-fc4adab4700d"
      },
      "outputs": [],
      "source": [
        "!git clone https://github.com/weihanfeng/Satellite_Image_Segmentation.git"
      ]
    },
    {
      "cell_type": "code",
      "execution_count": null,
      "metadata": {
        "colab": {
          "base_uri": "https://localhost:8080/"
        },
        "id": "UxRL2Qng2-WC",
        "outputId": "192a2dc1-9ea3-4815-9baa-cf7ac7df7a3a"
      },
      "outputs": [],
      "source": [
        "%cd Satellite_Image_Segmentation"
      ]
    },
    {
      "cell_type": "code",
      "execution_count": null,
      "metadata": {
        "colab": {
          "base_uri": "https://localhost:8080/"
        },
        "id": "UJeV5WHC50Pa",
        "outputId": "75948cba-41e8-42a9-e13a-49f3ca303395"
      },
      "outputs": [],
      "source": [
        "!git pull origin master"
      ]
    },
    {
      "cell_type": "code",
      "execution_count": null,
      "metadata": {
        "colab": {
          "base_uri": "https://localhost:8080/",
          "height": 1000
        },
        "id": "Q_ta_MHQ3J2O",
        "outputId": "812f38cf-aa43-4e02-b209-71cf868a775a"
      },
      "outputs": [],
      "source": [
        "# Install requirements\n",
        "!pip install hydra-core==1.3.2 tqdm==4.65.0 torch==2.0.1 requests==2.30.0 torchvision==0.15.2 opencv-python==4.7.0.72 Pillow==9.5.0 patchify==0.2.3 split-folders==0.5.1 matplotlib==3.7.1 numpy==1.24.3 install python-json-logger==2.0.7"
      ]
    },
    {
      "cell_type": "code",
      "execution_count": null,
      "metadata": {
        "colab": {
          "base_uri": "https://localhost:8080/"
        },
        "id": "GDuUiVw34NHl",
        "outputId": "1139f917-9568-475f-d8af-8571676859d3"
      },
      "outputs": [],
      "source": [
        "# Ingest data and split data\n",
        "!python src/get_and_process_data.py"
      ]
    },
    {
      "cell_type": "code",
      "execution_count": null,
      "metadata": {
        "colab": {
          "base_uri": "https://localhost:8080/"
        },
        "id": "0yNLPU1g6d_W",
        "outputId": "babed757-19c9-4e0f-b42d-86f6fab83485"
      },
      "outputs": [],
      "source": [
        "# Train model\n",
        "!python src/train_model.py"
      ]
    }
  ],
  "metadata": {
    "accelerator": "GPU",
    "colab": {
      "gpuType": "T4",
      "provenance": []
    },
    "kernelspec": {
      "display_name": "Python 3",
      "name": "python3"
    },
    "language_info": {
      "name": "python"
    }
  },
  "nbformat": 4,
  "nbformat_minor": 0
}
